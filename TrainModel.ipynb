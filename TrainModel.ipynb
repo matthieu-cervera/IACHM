{
  "nbformat": 4,
  "nbformat_minor": 0,
  "metadata": {
    "colab": {
      "provenance": []
    },
    "kernelspec": {
      "name": "python3",
      "display_name": "Python 3"
    },
    "language_info": {
      "name": "python"
    },
    "accelerator": "GPU",
    "gpuClass": "standard"
  },
  "cells": [
    {
      "cell_type": "markdown",
      "source": [
        "#Model training - IACHM\n"
      ],
      "metadata": {
        "id": "WL-oQW-hCJBa"
      }
    },
    {
      "cell_type": "markdown",
      "source": [
        "This code is used to train our LSTM based model. We dealt gyroscopical and accelerometer data as time series"
      ],
      "metadata": {
        "id": "IqRh7VdyDuZK"
      }
    },
    {
      "cell_type": "markdown",
      "source": [
        "### Imports and clone data"
      ],
      "metadata": {
        "id": "ZAMcggInClIA"
      }
    },
    {
      "cell_type": "code",
      "source": [
        "!nvidia-smi --query-gpu=name,memory.total,memory.free --format=csv,noheader"
      ],
      "metadata": {
        "colab": {
          "base_uri": "https://localhost:8080/"
        },
        "id": "h9FDwQohvAJb",
        "outputId": "0ef832d1-64a9-4d52-cfbf-89130a7f6081"
      },
      "execution_count": 6,
      "outputs": [
        {
          "output_type": "stream",
          "name": "stdout",
          "text": [
            "Tesla T4, 15360 MiB, 15109 MiB\n"
          ]
        }
      ]
    },
    {
      "cell_type": "code",
      "execution_count": 7,
      "metadata": {
        "id": "UdLTrF-OuXXp"
      },
      "outputs": [],
      "source": [
        "#================================== Imports ===================================#\n",
        "import pandas as pd\n",
        "import numpy as np\n",
        "import torch\n",
        "import torch.nn as nn\n",
        "import torch.optim as optim\n",
        "\n",
        "from google.colab import files\n",
        "#==============================================================================#"
      ]
    },
    {
      "cell_type": "code",
      "source": [
        "#============================= Clone Git repo =================================#\n",
        "!git clone https://github.com/matthieu-cervera/IACHM.git\n",
        "#==============================================================================#"
      ],
      "metadata": {
        "colab": {
          "base_uri": "https://localhost:8080/"
        },
        "id": "caLG7WDhAEmS",
        "outputId": "7d23d4e8-dc5d-4fa9-d1ef-bd81132557ea"
      },
      "execution_count": 8,
      "outputs": [
        {
          "output_type": "stream",
          "name": "stdout",
          "text": [
            "fatal: destination path 'IACHM' already exists and is not an empty directory.\n"
          ]
        }
      ]
    },
    {
      "cell_type": "code",
      "source": [
        "# #============================= Connect to Drive ===============================#\n",
        "# from google.colab import drive\n",
        "# drive.mount('/content/gdrive/')\n",
        "# #==============================================================================#"
      ],
      "metadata": {
        "id": "u__kslPF8FWe"
      },
      "execution_count": 9,
      "outputs": []
    },
    {
      "cell_type": "markdown",
      "source": [
        "### Data preprocessing"
      ],
      "metadata": {
        "id": "oeCYAy1KEQop"
      }
    },
    {
      "cell_type": "code",
      "source": [
        "cd /content/"
      ],
      "metadata": {
        "colab": {
          "base_uri": "https://localhost:8080/"
        },
        "id": "IU5MgnAURObX",
        "outputId": "b82a105d-6bfc-45f7-f613-e02fd257444c"
      },
      "execution_count": 12,
      "outputs": [
        {
          "output_type": "stream",
          "name": "stdout",
          "text": [
            "/content\n"
          ]
        }
      ]
    },
    {
      "cell_type": "code",
      "source": [
        "#================================= Data check =================================#\n",
        "df = pd.read_csv('gesture2.csv')\n",
        "df.head(5)\n",
        "#==============================================================================#"
      ],
      "metadata": {
        "colab": {
          "base_uri": "https://localhost:8080/",
          "height": 206
        },
        "id": "wPEYgjcnL9kz",
        "outputId": "1804d5de-2464-4190-c81d-3cf43c555a1a"
      },
      "execution_count": 15,
      "outputs": [
        {
          "output_type": "execute_result",
          "data": {
            "text/plain": [
              "    /accx   /accy   /accz  /gyrox  /gyroy  /gyroz\n",
              "0 -0.0677 -0.2022  1.5538 -0.4818 -0.0936  0.0404\n",
              "1  0.0801 -0.2894  2.5115 -0.5870 -0.0462  0.0988\n",
              "2  0.3076 -0.6156  4.2529 -0.7072  0.1017 -0.1989\n",
              "3 -0.3166 -0.6446  4.1102 -0.6024 -0.4128 -0.2917\n",
              "4 -0.5070 -0.3706  2.7059 -1.0266 -0.3352 -0.0801"
            ],
            "text/html": [
              "\n",
              "  <div id=\"df-fc85bf2a-05a5-454e-8a6e-9ead2daee1af\">\n",
              "    <div class=\"colab-df-container\">\n",
              "      <div>\n",
              "<style scoped>\n",
              "    .dataframe tbody tr th:only-of-type {\n",
              "        vertical-align: middle;\n",
              "    }\n",
              "\n",
              "    .dataframe tbody tr th {\n",
              "        vertical-align: top;\n",
              "    }\n",
              "\n",
              "    .dataframe thead th {\n",
              "        text-align: right;\n",
              "    }\n",
              "</style>\n",
              "<table border=\"1\" class=\"dataframe\">\n",
              "  <thead>\n",
              "    <tr style=\"text-align: right;\">\n",
              "      <th></th>\n",
              "      <th>/accx</th>\n",
              "      <th>/accy</th>\n",
              "      <th>/accz</th>\n",
              "      <th>/gyrox</th>\n",
              "      <th>/gyroy</th>\n",
              "      <th>/gyroz</th>\n",
              "    </tr>\n",
              "  </thead>\n",
              "  <tbody>\n",
              "    <tr>\n",
              "      <th>0</th>\n",
              "      <td>-0.0677</td>\n",
              "      <td>-0.2022</td>\n",
              "      <td>1.5538</td>\n",
              "      <td>-0.4818</td>\n",
              "      <td>-0.0936</td>\n",
              "      <td>0.0404</td>\n",
              "    </tr>\n",
              "    <tr>\n",
              "      <th>1</th>\n",
              "      <td>0.0801</td>\n",
              "      <td>-0.2894</td>\n",
              "      <td>2.5115</td>\n",
              "      <td>-0.5870</td>\n",
              "      <td>-0.0462</td>\n",
              "      <td>0.0988</td>\n",
              "    </tr>\n",
              "    <tr>\n",
              "      <th>2</th>\n",
              "      <td>0.3076</td>\n",
              "      <td>-0.6156</td>\n",
              "      <td>4.2529</td>\n",
              "      <td>-0.7072</td>\n",
              "      <td>0.1017</td>\n",
              "      <td>-0.1989</td>\n",
              "    </tr>\n",
              "    <tr>\n",
              "      <th>3</th>\n",
              "      <td>-0.3166</td>\n",
              "      <td>-0.6446</td>\n",
              "      <td>4.1102</td>\n",
              "      <td>-0.6024</td>\n",
              "      <td>-0.4128</td>\n",
              "      <td>-0.2917</td>\n",
              "    </tr>\n",
              "    <tr>\n",
              "      <th>4</th>\n",
              "      <td>-0.5070</td>\n",
              "      <td>-0.3706</td>\n",
              "      <td>2.7059</td>\n",
              "      <td>-1.0266</td>\n",
              "      <td>-0.3352</td>\n",
              "      <td>-0.0801</td>\n",
              "    </tr>\n",
              "  </tbody>\n",
              "</table>\n",
              "</div>\n",
              "      <button class=\"colab-df-convert\" onclick=\"convertToInteractive('df-fc85bf2a-05a5-454e-8a6e-9ead2daee1af')\"\n",
              "              title=\"Convert this dataframe to an interactive table.\"\n",
              "              style=\"display:none;\">\n",
              "        \n",
              "  <svg xmlns=\"http://www.w3.org/2000/svg\" height=\"24px\"viewBox=\"0 0 24 24\"\n",
              "       width=\"24px\">\n",
              "    <path d=\"M0 0h24v24H0V0z\" fill=\"none\"/>\n",
              "    <path d=\"M18.56 5.44l.94 2.06.94-2.06 2.06-.94-2.06-.94-.94-2.06-.94 2.06-2.06.94zm-11 1L8.5 8.5l.94-2.06 2.06-.94-2.06-.94L8.5 2.5l-.94 2.06-2.06.94zm10 10l.94 2.06.94-2.06 2.06-.94-2.06-.94-.94-2.06-.94 2.06-2.06.94z\"/><path d=\"M17.41 7.96l-1.37-1.37c-.4-.4-.92-.59-1.43-.59-.52 0-1.04.2-1.43.59L10.3 9.45l-7.72 7.72c-.78.78-.78 2.05 0 2.83L4 21.41c.39.39.9.59 1.41.59.51 0 1.02-.2 1.41-.59l7.78-7.78 2.81-2.81c.8-.78.8-2.07 0-2.86zM5.41 20L4 18.59l7.72-7.72 1.47 1.35L5.41 20z\"/>\n",
              "  </svg>\n",
              "      </button>\n",
              "      \n",
              "  <style>\n",
              "    .colab-df-container {\n",
              "      display:flex;\n",
              "      flex-wrap:wrap;\n",
              "      gap: 12px;\n",
              "    }\n",
              "\n",
              "    .colab-df-convert {\n",
              "      background-color: #E8F0FE;\n",
              "      border: none;\n",
              "      border-radius: 50%;\n",
              "      cursor: pointer;\n",
              "      display: none;\n",
              "      fill: #1967D2;\n",
              "      height: 32px;\n",
              "      padding: 0 0 0 0;\n",
              "      width: 32px;\n",
              "    }\n",
              "\n",
              "    .colab-df-convert:hover {\n",
              "      background-color: #E2EBFA;\n",
              "      box-shadow: 0px 1px 2px rgba(60, 64, 67, 0.3), 0px 1px 3px 1px rgba(60, 64, 67, 0.15);\n",
              "      fill: #174EA6;\n",
              "    }\n",
              "\n",
              "    [theme=dark] .colab-df-convert {\n",
              "      background-color: #3B4455;\n",
              "      fill: #D2E3FC;\n",
              "    }\n",
              "\n",
              "    [theme=dark] .colab-df-convert:hover {\n",
              "      background-color: #434B5C;\n",
              "      box-shadow: 0px 1px 3px 1px rgba(0, 0, 0, 0.15);\n",
              "      filter: drop-shadow(0px 1px 2px rgba(0, 0, 0, 0.3));\n",
              "      fill: #FFFFFF;\n",
              "    }\n",
              "  </style>\n",
              "\n",
              "      <script>\n",
              "        const buttonEl =\n",
              "          document.querySelector('#df-fc85bf2a-05a5-454e-8a6e-9ead2daee1af button.colab-df-convert');\n",
              "        buttonEl.style.display =\n",
              "          google.colab.kernel.accessAllowed ? 'block' : 'none';\n",
              "\n",
              "        async function convertToInteractive(key) {\n",
              "          const element = document.querySelector('#df-fc85bf2a-05a5-454e-8a6e-9ead2daee1af');\n",
              "          const dataTable =\n",
              "            await google.colab.kernel.invokeFunction('convertToInteractive',\n",
              "                                                     [key], {});\n",
              "          if (!dataTable) return;\n",
              "\n",
              "          const docLinkHtml = 'Like what you see? Visit the ' +\n",
              "            '<a target=\"_blank\" href=https://colab.research.google.com/notebooks/data_table.ipynb>data table notebook</a>'\n",
              "            + ' to learn more about interactive tables.';\n",
              "          element.innerHTML = '';\n",
              "          dataTable['output_type'] = 'display_data';\n",
              "          await google.colab.output.renderOutput(dataTable, element);\n",
              "          const docLink = document.createElement('div');\n",
              "          docLink.innerHTML = docLinkHtml;\n",
              "          element.appendChild(docLink);\n",
              "        }\n",
              "      </script>\n",
              "    </div>\n",
              "  </div>\n",
              "  "
            ]
          },
          "metadata": {},
          "execution_count": 15
        }
      ]
    },
    {
      "cell_type": "markdown",
      "source": [
        "We need to remove NaN values and labelise the data"
      ],
      "metadata": {
        "id": "5C6D47d-HewV"
      }
    },
    {
      "cell_type": "code",
      "source": [
        "#============================= Data organisation =============================#\n",
        "sequences = []\n",
        "targets = []      # 0 : nothing // 1 : circle // 2 : horizontal lines\n",
        "\n",
        "for i in range(1,151):\n",
        "  df = pd.read_csv('gesture'+str(i)+'.csv')\n",
        "  df.dropna(inplace= True)\n",
        "  values = df.values\n",
        "  sequences.append(values)\n",
        "  if i<=50:\n",
        "    targets.append(0)\n",
        "  elif i<=100:\n",
        "    targets.append(1)\n",
        "  else:\n",
        "    targets.append(2)\n",
        "#==============================================================================#"
      ],
      "metadata": {
        "id": "s1oEVEfDM8hP"
      },
      "execution_count": 16,
      "outputs": []
    },
    {
      "cell_type": "markdown",
      "source": [
        "We need to have a fixed length for each gesture.  The fixed length is chosen accordingly to our data. Globally we prefer not to loose to much data.  \n",
        "In our case, we figured out that padding the tensor with zeros is irrelevant so we decided to pad with their last value. "
      ],
      "metadata": {
        "id": "LUmamIDt7Ify"
      }
    },
    {
      "cell_type": "code",
      "source": [
        "len_sequences = []\n",
        "for seq in sequences:\n",
        "    len_sequences.append(len(seq))\n",
        "pd.Series(len_sequences).describe()"
      ],
      "metadata": {
        "id": "Wac3LkYQ7IAd",
        "colab": {
          "base_uri": "https://localhost:8080/"
        },
        "outputId": "59547cd1-07e5-49cb-89e4-bf15f0f7d203"
      },
      "execution_count": 17,
      "outputs": [
        {
          "output_type": "execute_result",
          "data": {
            "text/plain": [
              "count    150.000000\n",
              "mean     127.966667\n",
              "std        0.180107\n",
              "min      127.000000\n",
              "25%      128.000000\n",
              "50%      128.000000\n",
              "75%      128.000000\n",
              "max      128.000000\n",
              "dtype: float64"
            ]
          },
          "metadata": {},
          "execution_count": 17
        }
      ]
    },
    {
      "cell_type": "code",
      "source": [
        "#====== Padding the sequence with the values in last row to max length ========#\n",
        "max_seq_length = 128\n",
        "processed_data_sequences = []\n",
        "for seq in sequences :\n",
        "  last_value = seq[-1]\n",
        "  rows_to_pad = max_seq_length - len(seq)\n",
        "  if rows_to_pad != 0:\n",
        "    seq_to_concatenate = np.repeat(last_value,rows_to_pad)\n",
        "    seq_to_concatenate_reshaped = np.array([seq_to_concatenate])\n",
        "    padded_seq = np.concatenate([seq,seq_to_concatenate_reshaped])\n",
        "    processed_data_sequences.append(padded_seq)\n",
        "  else:\n",
        "    processed_data_sequences.append(seq)\n",
        "\n",
        "processed_data_sequences = np.stack(processed_data_sequences)\n",
        "#==============================================================================#\n",
        "\n",
        "#==================== Truncate the sequence to length 128 =====================#\n",
        "seq_length = 128\n",
        "for seq,i in enumerate(processed_data_sequences):\n",
        "  processed_data_sequences[i] = seq[:seq_length]\n",
        "#==============================================================================#\n",
        "\n",
        "# Create data with target values\n",
        "data_w_targets = np.array([[processed_data_sequences[i],targets[i]] for i in range(len(processed_data_sequences))])\n",
        "\n",
        "#================== Shuffling and separating our data =========================#\n",
        "# We chose 80% train 20% val\n",
        "threshold = int(0.8*len(data_w_targets)) \n",
        "np.random.shuffle(data_w_targets)\n",
        "train_data = data_w_targets[:threshold]\n",
        "val_data = data_w_targets[threshold:]\n",
        "#==============================================================================#"
      ],
      "metadata": {
        "id": "PJyVgPqNGyif",
        "colab": {
          "base_uri": "https://localhost:8080/"
        },
        "outputId": "ff2750e4-fc85-4845-bfda-296d3bf07101"
      },
      "execution_count": 18,
      "outputs": [
        {
          "output_type": "stream",
          "name": "stderr",
          "text": [
            "<ipython-input-18-d60ffaaec5d1>:25: VisibleDeprecationWarning: Creating an ndarray from ragged nested sequences (which is a list-or-tuple of lists-or-tuples-or ndarrays with different lengths or shapes) is deprecated. If you meant to do this, you must specify 'dtype=object' when creating the ndarray.\n",
            "  data_w_targets = np.array([[processed_data_sequences[i],targets[i]] for i in range(len(processed_data_sequences))])\n"
          ]
        }
      ]
    },
    {
      "cell_type": "markdown",
      "source": [
        "### Our LSTM based model"
      ],
      "metadata": {
        "id": "plcPY9wvM963"
      }
    },
    {
      "cell_type": "code",
      "source": [
        "input_size = 6 \n",
        "hidden_size = 128\n",
        "\n",
        "class LSTMModel(nn.Module):\n",
        "    def __init__(self, device):\n",
        "        super(LSTMModel, self).__init__()\n",
        "        self.lstm1 = nn.LSTM(\n",
        "            input_size=6, hidden_size=128, batch_first=True)\n",
        "        self.lstm = nn.LSTM(\n",
        "            input_size=128, hidden_size=128,batch_first=True, dropout = 0.2)\n",
        "        self.linear = nn.Linear(128, 3)\n",
        "        self.sigmoid = nn.Sigmoid()\n",
        "        self.device = device\n",
        "\n",
        "    def forward(self, x):\n",
        "        x, _ = self.lstm1(x)\n",
        "        x, (ht, ct) = self.lstm(x)\n",
        "        x = self.linear(ht[-1])\n",
        "        x = self.sigmoid(x)\n",
        "        return x"
      ],
      "metadata": {
        "id": "EiiAmLPYY647"
      },
      "execution_count": 28,
      "outputs": []
    },
    {
      "cell_type": "markdown",
      "source": [
        "### Validation and training functions\n",
        "\n",
        "\n"
      ],
      "metadata": {
        "id": "OqvYkWYV9qHh"
      }
    },
    {
      "cell_type": "code",
      "source": [
        "#============================== Val function ================================#\n",
        "def validation():\n",
        "    model.eval()\n",
        "    validation_loss = 0\n",
        "    correct = 0\n",
        "    for row in val_data:\n",
        "      data = torch.from_numpy(row[0]).float()\n",
        "      target = torch.from_numpy(np.array(row[1])).float()\n",
        "      if use_cuda:\n",
        "            data, target = data.cuda(), target.cuda()\n",
        "      output = model(data)\n",
        "      target = target.long()\n",
        "      criterion = torch.nn.CrossEntropyLoss(reduction='mean')\n",
        "      validation_loss += criterion(output, target).data.item()\n",
        "       \n",
        "      if torch.argmax(output) == row[1]:    \n",
        "        correct += 1\n",
        "\n",
        "    validation_loss /= len(val_data)\n",
        "    print('\\nValidation set: Average loss: {:.4f}, Accuracy: {}/{} ({:.0f}%)'.format(\n",
        "        validation_loss, correct, len(val_data),\n",
        "        100. * correct / len(val_data)))\n",
        "#==============================================================================#"
      ],
      "metadata": {
        "id": "08WbtWktAQOi"
      },
      "execution_count": 20,
      "outputs": []
    },
    {
      "cell_type": "code",
      "source": [
        "#============================== Train function ================================#\n",
        "def train(epoch, model, optimizer):\n",
        "    model.train()\n",
        "    for e in range(1,epoch+1):\n",
        "      for row in train_data :\n",
        "        data = torch.from_numpy(row[0]).float()\n",
        "        target = torch.from_numpy(np.array(row[1])).float()\n",
        "        if use_cuda:\n",
        "              data, target = data.cuda(), target.cuda() \n",
        "        target = target.long()\n",
        "\n",
        "        #def closure():\n",
        "        optimizer.zero_grad()\n",
        "        output = model(data)\n",
        "    \n",
        "        criterion = torch.nn.CrossEntropyLoss(reduction='mean')\n",
        "        loss = criterion(output, target)\n",
        "        loss.backward()\n",
        "          #return loss\n",
        "        optimizer.step()\n",
        "        # optimizer.step(closure)\n",
        "      # loss = closure()\n",
        "      print('Train Epoch: {} [{}/{} ({:.0f}%)]\\tLoss: {:.6f}'.format(\n",
        "      e,  len(train_data), len(train_data),\n",
        "      100. / len(train_data), loss.data.item()))\n",
        "      validation()\n",
        "      model.train()\n",
        "#==============================================================================#"
      ],
      "metadata": {
        "id": "GMJLz96z9sY5"
      },
      "execution_count": 21,
      "outputs": []
    },
    {
      "cell_type": "markdown",
      "source": [
        "### Training and saving the model"
      ],
      "metadata": {
        "id": "hmRgv7efNvF4"
      }
    },
    {
      "cell_type": "code",
      "source": [
        "use_cuda = torch.cuda.is_available()\n",
        "torch.cuda.empty_cache()\n",
        "\n",
        "model = LSTMModel(device='cuda')\n",
        "\n",
        "if use_cuda:\n",
        "    print('Using GPU')\n",
        "    model.cuda()\n",
        "else:\n",
        "    print('Using CPU')\n",
        "\n",
        "# torch.backends.cuda.matmul.allow_tf32 = False\n",
        "optimizer = optim.Adam(model.parameters(), lr=0.0001)\n",
        "nb_epoch = 20\n",
        "\n",
        "train(nb_epoch,model,optimizer)"
      ],
      "metadata": {
        "id": "t0nvnCxzAcSO",
        "colab": {
          "base_uri": "https://localhost:8080/"
        },
        "outputId": "6e0aaa57-907a-4777-a34f-852188dd64f9"
      },
      "execution_count": 30,
      "outputs": [
        {
          "output_type": "stream",
          "name": "stdout",
          "text": [
            "Using GPU\n",
            "Train Epoch: 1 [120/120 (1%)]\tLoss: 1.087075\n",
            "\n",
            "Validation set: Average loss: 1.0961, Accuracy: 12/30 (40%)\n",
            "Train Epoch: 2 [120/120 (1%)]\tLoss: 1.077465\n",
            "\n",
            "Validation set: Average loss: 1.0796, Accuracy: 12/30 (40%)\n",
            "Train Epoch: 3 [120/120 (1%)]\tLoss: 1.052749\n",
            "\n",
            "Validation set: Average loss: 1.0396, Accuracy: 12/30 (40%)\n",
            "Train Epoch: 4 [120/120 (1%)]\tLoss: 1.019770\n",
            "\n",
            "Validation set: Average loss: 0.9988, Accuracy: 16/30 (53%)\n",
            "Train Epoch: 5 [120/120 (1%)]\tLoss: 0.942408\n",
            "\n",
            "Validation set: Average loss: 0.9063, Accuracy: 21/30 (70%)\n",
            "Train Epoch: 6 [120/120 (1%)]\tLoss: 0.867059\n",
            "\n",
            "Validation set: Average loss: 0.8160, Accuracy: 25/30 (83%)\n",
            "Train Epoch: 7 [120/120 (1%)]\tLoss: 0.802550\n",
            "\n",
            "Validation set: Average loss: 0.7573, Accuracy: 26/30 (87%)\n",
            "Train Epoch: 8 [120/120 (1%)]\tLoss: 0.749088\n",
            "\n",
            "Validation set: Average loss: 0.7180, Accuracy: 29/30 (97%)\n",
            "Train Epoch: 9 [120/120 (1%)]\tLoss: 0.705551\n",
            "\n",
            "Validation set: Average loss: 0.7068, Accuracy: 26/30 (87%)\n",
            "Train Epoch: 10 [120/120 (1%)]\tLoss: 0.676982\n",
            "\n",
            "Validation set: Average loss: 0.6959, Accuracy: 27/30 (90%)\n",
            "Train Epoch: 11 [120/120 (1%)]\tLoss: 0.640702\n",
            "\n",
            "Validation set: Average loss: 0.7413, Accuracy: 25/30 (83%)\n",
            "Train Epoch: 12 [120/120 (1%)]\tLoss: 0.631551\n",
            "\n",
            "Validation set: Average loss: 0.6786, Accuracy: 27/30 (90%)\n",
            "Train Epoch: 13 [120/120 (1%)]\tLoss: 0.619786\n",
            "\n",
            "Validation set: Average loss: 0.7833, Accuracy: 25/30 (83%)\n",
            "Train Epoch: 14 [120/120 (1%)]\tLoss: 0.622841\n",
            "\n",
            "Validation set: Average loss: 0.6534, Accuracy: 28/30 (93%)\n",
            "Train Epoch: 15 [120/120 (1%)]\tLoss: 0.620772\n",
            "\n",
            "Validation set: Average loss: 0.6453, Accuracy: 29/30 (97%)\n",
            "Train Epoch: 16 [120/120 (1%)]\tLoss: 0.609729\n",
            "\n",
            "Validation set: Average loss: 0.6332, Accuracy: 29/30 (97%)\n",
            "Train Epoch: 17 [120/120 (1%)]\tLoss: 0.603342\n",
            "\n",
            "Validation set: Average loss: 0.6259, Accuracy: 29/30 (97%)\n",
            "Train Epoch: 18 [120/120 (1%)]\tLoss: 0.597889\n",
            "\n",
            "Validation set: Average loss: 0.6210, Accuracy: 29/30 (97%)\n",
            "Train Epoch: 19 [120/120 (1%)]\tLoss: 0.592868\n",
            "\n",
            "Validation set: Average loss: 0.6200, Accuracy: 29/30 (97%)\n",
            "Train Epoch: 20 [120/120 (1%)]\tLoss: 0.588296\n",
            "\n",
            "Validation set: Average loss: 0.6145, Accuracy: 29/30 (97%)\n"
          ]
        }
      ]
    },
    {
      "cell_type": "code",
      "source": [
        "torch.save(model.state_dict(), 'checkpoint.pth')\n",
        "\n",
        "# download checkpoint file\n",
        "files.download('checkpoint.pth')"
      ],
      "metadata": {
        "colab": {
          "base_uri": "https://localhost:8080/",
          "height": 17
        },
        "id": "4JkbMO9SndvD",
        "outputId": "c1bebdff-82a8-46d2-dbc2-f5a6794c931f"
      },
      "execution_count": 31,
      "outputs": [
        {
          "output_type": "display_data",
          "data": {
            "text/plain": [
              "<IPython.core.display.Javascript object>"
            ],
            "application/javascript": [
              "\n",
              "    async function download(id, filename, size) {\n",
              "      if (!google.colab.kernel.accessAllowed) {\n",
              "        return;\n",
              "      }\n",
              "      const div = document.createElement('div');\n",
              "      const label = document.createElement('label');\n",
              "      label.textContent = `Downloading \"${filename}\": `;\n",
              "      div.appendChild(label);\n",
              "      const progress = document.createElement('progress');\n",
              "      progress.max = size;\n",
              "      div.appendChild(progress);\n",
              "      document.body.appendChild(div);\n",
              "\n",
              "      const buffers = [];\n",
              "      let downloaded = 0;\n",
              "\n",
              "      const channel = await google.colab.kernel.comms.open(id);\n",
              "      // Send a message to notify the kernel that we're ready.\n",
              "      channel.send({})\n",
              "\n",
              "      for await (const message of channel.messages) {\n",
              "        // Send a message to notify the kernel that we're ready.\n",
              "        channel.send({})\n",
              "        if (message.buffers) {\n",
              "          for (const buffer of message.buffers) {\n",
              "            buffers.push(buffer);\n",
              "            downloaded += buffer.byteLength;\n",
              "            progress.value = downloaded;\n",
              "          }\n",
              "        }\n",
              "      }\n",
              "      const blob = new Blob(buffers, {type: 'application/binary'});\n",
              "      const a = document.createElement('a');\n",
              "      a.href = window.URL.createObjectURL(blob);\n",
              "      a.download = filename;\n",
              "      div.appendChild(a);\n",
              "      a.click();\n",
              "      div.remove();\n",
              "    }\n",
              "  "
            ]
          },
          "metadata": {}
        },
        {
          "output_type": "display_data",
          "data": {
            "text/plain": [
              "<IPython.core.display.Javascript object>"
            ],
            "application/javascript": [
              "download(\"download_07bcaba4-09fc-479d-ab5e-808aaf480a83\", \"checkpoint.pth\", 810737)"
            ]
          },
          "metadata": {}
        }
      ]
    }
  ]
}